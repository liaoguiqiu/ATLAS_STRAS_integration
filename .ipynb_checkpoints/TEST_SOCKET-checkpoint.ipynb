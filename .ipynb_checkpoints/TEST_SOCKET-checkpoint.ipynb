{
 "cells": [
  {
   "cell_type": "code",
   "execution_count": 1,
   "metadata": {},
   "outputs": [
    {
     "name": "stdout",
     "output_type": "stream",
     "text": [
      "Succesful connection!\n",
      "hostname:\t 192.168.12.109\n",
      "port:\t\t 6666\n"
     ]
    }
   ],
   "source": [
    "from EASE_socket_python.STRAS_slave import STRASslave\n",
    "host = '192.168.12.109'\n",
    "port_slave = 6666\n",
    "STRASslave = STRASslave(host=host, port=port_slave)\n",
    "#self.STRASslave.easyStart()\n",
    "STRASslave.setTimeOut(1.)\n",
    "STRASslave.connect(True)"
   ]
  },
  {
   "cell_type": "code",
   "execution_count": 2,
   "metadata": {},
   "outputs": [],
   "source": [
    "STRASslave.getAxisInfo(False)"
   ]
  },
  {
   "cell_type": "code",
   "execution_count": 3,
   "metadata": {},
   "outputs": [
    {
     "name": "stdout",
     "output_type": "stream",
     "text": [
      "Sending message of type:\t CMD\n",
      "CONTROLLER_CMD_GET_STATE\n",
      "MSG LEN:\t 317\n",
      "Controller Mode:\t 4\n",
      "NumberOfAxisRobot:\t 11\n",
      "NumberOfActiveAxisRobot:\t 11\n",
      "Axis    \t AXmea  \t AXref  \t ME-REF  \tNorm\n",
      "EBV \t 1    \t -9.1131    \t -9.12    \t 0.01    \t 0.0\n",
      "EBH \t 2    \t 0.0062    \t 0.0    \t 0.01    \t 0.5\n",
      "ER \t 3    \t -0.0258    \t -0.03    \t 0.0    \t 0.64\n",
      "ET \t 4    \t 6.152    \t 6.15    \t 0.0    \t 0.06\n",
      "TR \t 5    \t 59.1291    \t 59.11    \t 0.02    \t 0.2\n",
      "RR \t 6    \t 3.1949    \t 3.19    \t 0.01    \t 0.43\n",
      "BR \t 7    \t -0.4768    \t -0.48    \t 0.0    \t 0.54\n",
      "TL \t 9    \t 15.0128    \t 15.0    \t 0.01    \t 0.81\n",
      "RL \t 10    \t 10.4425    \t 10.44    \t 0.01    \t 0.45\n",
      "BL \t 11    \t -1.3192    \t -1.32    \t -0.0    \t 0.32\n",
      "AL \t 12    \t 8.5068    \t 8.5    \t 0.01    \t 0.91\n",
      "NumberOfButtons:\t 0\n"
     ]
    }
   ],
   "source": [
    "STRASslave.getState(True)"
   ]
  },
  {
   "cell_type": "code",
   "execution_count": null,
   "metadata": {},
   "outputs": [],
   "source": [
    "STRASslave.send_GoToPos_byLabel([['EBV', 0, 0.1], ['EBH', 0, 0.1]], False)\n",
    "STRASslave.getState(False)"
   ]
  },
  {
   "cell_type": "code",
   "execution_count": null,
   "metadata": {},
   "outputs": [],
   "source": [
    "STRASslave.send_GoToPos_byLabel([['EBV', 0, 0.1]], False)\n",
    "STRASslave.getState(False)"
   ]
  },
  {
   "cell_type": "code",
   "execution_count": null,
   "metadata": {},
   "outputs": [],
   "source": [
    "STRASslave.send_GoToPos_byLabel([['EBH', 0, 0.1]], False)\n",
    "STRASslave.getState(False)"
   ]
  },
  {
   "cell_type": "code",
   "execution_count": null,
   "metadata": {},
   "outputs": [],
   "source": [
    "STRASslave.send_GoToPos_byLabel([['ET', 0, 0.1]], False)\n",
    "STRASslave.getState(False)"
   ]
  },
  {
   "cell_type": "code",
   "execution_count": null,
   "metadata": {},
   "outputs": [],
   "source": [
    "# STRASslave.getState(False)\n",
    "# print(STRASslave.axisCurrVal[:4])\n",
    "# STRASslave.send_GoToPos([[4,STRASslave.axisCurrVal[4]+5,0.1]],False)\n",
    "# STRASslave.getState(False)\n",
    "# print(STRASslave.axisCurrVal[:4])"
   ]
  },
  {
   "cell_type": "code",
   "execution_count": null,
   "metadata": {},
   "outputs": [],
   "source": [
    "# STRASslave.getState(False)\n",
    "# STRASslave.send_GoToPos([[1,STRASslave.axisCurrVal[0]-1,0.1]],False)"
   ]
  },
  {
   "cell_type": "code",
   "execution_count": null,
   "metadata": {},
   "outputs": [],
   "source": [
    "# STRASslave.getState(False)\n",
    "# STRASslave.send_GoToPos([[2,STRASslave.axisCurrVal[1]-1,0.1]],False)"
   ]
  },
  {
   "cell_type": "code",
   "execution_count": null,
   "metadata": {},
   "outputs": [],
   "source": [
    "# STRASslave.getState(False)\n",
    "# STRASslave.send_GoToPos([[4,1,0.1]],False)"
   ]
  },
  {
   "cell_type": "code",
   "execution_count": null,
   "metadata": {},
   "outputs": [],
   "source": [
    "# STRASslave.getState(False)\n",
    "# STRASslave.send_GoToPos([[2,3.1609,0.1]],False)"
   ]
  },
  {
   "cell_type": "code",
   "execution_count": null,
   "metadata": {},
   "outputs": [],
   "source": [
    "# STRASslave.axisCurrVal[3]+1"
   ]
  }
 ],
 "metadata": {
  "kernelspec": {
   "display_name": "Python 3",
   "language": "python",
   "name": "python3"
  },
  "language_info": {
   "codemirror_mode": {
    "name": "ipython",
    "version": 3
   },
   "file_extension": ".py",
   "mimetype": "text/x-python",
   "name": "python",
   "nbconvert_exporter": "python",
   "pygments_lexer": "ipython3",
   "version": "3.6.9"
  }
 },
 "nbformat": 4,
 "nbformat_minor": 4
}
